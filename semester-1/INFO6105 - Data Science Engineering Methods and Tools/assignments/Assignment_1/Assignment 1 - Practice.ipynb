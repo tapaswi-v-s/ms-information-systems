{
 "cells": [
  {
   "cell_type": "markdown",
   "id": "8d0abb3a",
   "metadata": {},
   "source": [
    "# Assignment 1: Questions 1, 2, 5\n",
    "\n",
    "__Tapaswi Satyapanthi__ <br>\n",
    "_satyapanthi.t@northeastern.edu_"
   ]
  },
  {
   "cell_type": "markdown",
   "id": "dd3c611c",
   "metadata": {},
   "source": [
    "## Problem 1"
   ]
  },
  {
   "cell_type": "code",
   "execution_count": 1,
   "id": "82195226",
   "metadata": {},
   "outputs": [],
   "source": [
    "import numpy as np"
   ]
  },
  {
   "cell_type": "markdown",
   "id": "f9e699e2",
   "metadata": {},
   "source": [
    "__Matrix initialisation__"
   ]
  },
  {
   "cell_type": "code",
   "execution_count": 2,
   "id": "b761c7d8",
   "metadata": {},
   "outputs": [
    {
     "name": "stdout",
     "output_type": "stream",
     "text": [
      "Matrix A: \n",
      "[[ -1  -2]\n",
      " [ -7  -6]\n",
      " [  2  -1]\n",
      " [  4   0]\n",
      " [  4 -10]]\n",
      "\n",
      "Matrix B: \n",
      "[[2 0 0 0 0]\n",
      " [0 1 0 0 0]\n",
      " [0 0 3 0 0]\n",
      " [0 0 0 4 0]\n",
      " [0 0 0 0 5]]\n",
      "\n",
      "Vector X: \n",
      "[8 3]\n"
     ]
    }
   ],
   "source": [
    "# Creating matrix A or 2d array with the help of numpy's\n",
    "# randint function by passing tuple, containing matrix dimentions\n",
    "# to the size parameter\n",
    "matrix_A = np.random.randint(-10, 10, size=(5, 2))\n",
    "\n",
    "# Creating vector X by using numpy's randint function\n",
    "# Since this is a vector, I'm using only a list\n",
    "vector_x = np.random.randint(-10, 10, size=2)\n",
    "\n",
    "# Diagonal matrix B with dimentions 5x5 having 1 to 5 on diagonal\n",
    "matrix_B = np.diag([2, 1, 3, 4, 5])\n",
    "\n",
    "print(f\"Matrix A: \\n{matrix_A}\")\n",
    "print(f\"\\nMatrix B: \\n{matrix_B}\")\n",
    "print(f\"\\nVector X: \\n{vector_x}\")"
   ]
  },
  {
   "cell_type": "code",
   "execution_count": 3,
   "id": "9c595913",
   "metadata": {},
   "outputs": [],
   "source": [
    "# Function to add and multiply rows\n",
    "def add_rows(tuples):\n",
    "    return sum((tuple[0]*tuple[1]) for tuple in tuples)"
   ]
  },
  {
   "cell_type": "markdown",
   "id": "877c71ae",
   "metadata": {},
   "source": [
    "## Matrix-Vector product: Ax"
   ]
  },
  {
   "cell_type": "markdown",
   "id": "6d9d8641",
   "metadata": {},
   "source": [
    "__Product using custom logic__"
   ]
  },
  {
   "cell_type": "code",
   "execution_count": 4,
   "id": "0aea3dd4",
   "metadata": {},
   "outputs": [],
   "source": [
    "# Function to calculate matrix-vector product\n",
    "def matrix_vector_product(matrixA, vectorX):\n",
    "    # if\n",
    "    if matrixA.shape[1] != vectorX.shape[0]:\n",
    "        return \"Product not possible, please check the dimensions.\"\n",
    "\n",
    "    # initialising the answer vector as an empty array\n",
    "    ans_vector = []\n",
    "\n",
    "    # logic to calculate matrix-vector product\n",
    "    for row in matrix_A:\n",
    "        ans_vector.append(add_rows(tuple(zip(row, vector_x))))\n",
    "\n",
    "    return ans_vector"
   ]
  },
  {
   "cell_type": "code",
   "execution_count": 5,
   "id": "00d05db3",
   "metadata": {},
   "outputs": [
    {
     "name": "stdout",
     "output_type": "stream",
     "text": [
      "Matrix - Vector(Ax) product using custom logic: \n",
      "[-4, -1, -7, -7, 1]\n"
     ]
    }
   ],
   "source": [
    "Ax_product = matrix_vector_product(matrix_A, vector_x)\n",
    "\n",
    "print(f\"Matrix - Vector(Ax) product using custom logic: \\n{Ax_product}\")"
   ]
  },
  {
   "cell_type": "markdown",
   "id": "8489029b",
   "metadata": {},
   "source": [
    "__Product using numpy's _dot_ function__"
   ]
  },
  {
   "cell_type": "code",
   "execution_count": 6,
   "id": "81d0193d",
   "metadata": {},
   "outputs": [
    {
     "name": "stdout",
     "output_type": "stream",
     "text": [
      "Matrix - Vector(Ax) product using numpy.dot function: \n",
      "[-4 -1 -7 -7  1]\n"
     ]
    }
   ],
   "source": [
    "Ax_product = np.dot(matrix_A, vector_x)\n",
    "\n",
    "print(f\"Matrix - Vector(Ax) product using numpy.dot function: \\n{Ax_product}\")"
   ]
  },
  {
   "cell_type": "code",
   "execution_count": null,
   "id": "9124c0c8",
   "metadata": {},
   "outputs": [],
   "source": []
  },
  {
   "cell_type": "markdown",
   "id": "7ab0d8d6",
   "metadata": {},
   "source": [
    "## Matrix-Matrix product: BA"
   ]
  },
  {
   "cell_type": "markdown",
   "id": "137bf280",
   "metadata": {},
   "source": [
    "__Product using custom logic__"
   ]
  },
  {
   "cell_type": "code",
   "execution_count": 7,
   "id": "58b37257",
   "metadata": {},
   "outputs": [],
   "source": [
    "# Function to calculate matrix-matrix product\n",
    "def matrix_matrix_product(matrix1, matrix2):\n",
    "\n",
    "    # If no. of columns of first matrix and no. of rows of second matrix\n",
    "    # doesn't match, then the product is not possible so.\n",
    "    if matrix1.shape[1] != matrix2.shape[0]:\n",
    "        return \"Product not possible, please check the dimensions.\"\n",
    "\n",
    "    # Extracting the dimensions of the resultant matrix\n",
    "    ans_matrix_row = matrix1.shape[0] # no. of rows of first matrix\n",
    "    ans_matrix_col = matrix2.shape[1] # no. of columns of second matrix\n",
    "\n",
    "    # Initialising the resultant matrix with zeros\n",
    "    ans_matrix = np.zeros((ans_matrix_row, ans_matrix_col), dtype=int)\n",
    "\n",
    "    # logic to multiply two matrices\n",
    "    for row_index in range(len(matrix1)):\n",
    "        for col_index in range(len(matrix2[0])):\n",
    "            ans_matrix[row_index][col_index] \\\n",
    "                = add_rows(tuple(zip(matrix1[row_index], matrix2[:, col_index])))\n",
    "\n",
    "    return ans_matrix\n"
   ]
  },
  {
   "cell_type": "code",
   "execution_count": 8,
   "id": "5b97e5e9",
   "metadata": {},
   "outputs": [
    {
     "name": "stdout",
     "output_type": "stream",
     "text": [
      "Matrix - Matrix(BA) product using custom logic: \n",
      "[[ 18  -8]\n",
      " [  0  -1]\n",
      " [ -9 -21]\n",
      " [ 36 -28]\n",
      " [-30   5]]\n"
     ]
    }
   ],
   "source": [
    "BA_product = matrix_matrix_product(matrix_B, matrix_A)\n",
    "\n",
    "print(f\"Matrix - Matrix(BA) product using custom logic: \\n{BA_product}\")"
   ]
  },
  {
   "cell_type": "markdown",
   "id": "e2bd6587",
   "metadata": {},
   "source": [
    "__Product using numpy's _dot_ function__"
   ]
  },
  {
   "cell_type": "code",
   "execution_count": 9,
   "id": "b24bda03",
   "metadata": {},
   "outputs": [
    {
     "name": "stdout",
     "output_type": "stream",
     "text": [
      "Matrix - Matrix(BA) product using numpy.dot function: \n",
      "[[ 18  -8]\n",
      " [  0  -1]\n",
      " [ -9 -21]\n",
      " [ 36 -28]\n",
      " [-30   5]]\n"
     ]
    }
   ],
   "source": [
    "BA_product = np.dot(matrix_B, matrix_A)\n",
    "\n",
    "print(f\"Matrix - Matrix(BA) product using numpy.dot function: \\n{BA_product}\")"
   ]
  },
  {
   "cell_type": "code",
   "execution_count": null,
   "id": "f0af2666",
   "metadata": {},
   "outputs": [],
   "source": []
  },
  {
   "cell_type": "markdown",
   "id": "f189c409",
   "metadata": {},
   "source": [
    "# Problem 2"
   ]
  },
  {
   "cell_type": "code",
   "execution_count": 10,
   "id": "85e28fd6",
   "metadata": {},
   "outputs": [],
   "source": [
    "from numpy.linalg import matrix_rank"
   ]
  },
  {
   "cell_type": "code",
   "execution_count": 21,
   "id": "39e59efa",
   "metadata": {},
   "outputs": [
    {
     "name": "stdout",
     "output_type": "stream",
     "text": [
      "Rank of matrix A: 2\n",
      "Rank of matrix B: 5\n",
      "Rank of matrix BA: 2\n"
     ]
    }
   ],
   "source": [
    "# Calculating rank of matrix A\n",
    "rank_A = matrix_rank(matrix_A)\n",
    "\n",
    "# Calculating rank of matrix B\n",
    "rank_B = matrix_rank(matrix_B)\n",
    "\n",
    "# Calculating rank of matrix BA\n",
    "rank_BA = matrix_rank(np.dot(matrix_B,matrix_A))\n",
    "\n",
    "print(f\"Rank of matrix A: {rank_A}\")\n",
    "print(f\"Rank of matrix B: {rank_B}\")\n",
    "print(f\"Rank of matrix BA: {rank_BA}\")"
   ]
  },
  {
   "cell_type": "markdown",
   "id": "9aedddb0",
   "metadata": {},
   "source": [
    "### What about the rank of BA? Are they differrent? Why?\n",
    "\n",
    "Here rank of the matrix BA is not equal to that of matrix B because the rank(BA) is determined by the following relationship: \n",
    "\n",
    "rank(BA) is minimum of the ranks of the matrices B and A \n",
    "i.e. rank(BA) <= minimum(rank(B), rank(A)).\n",
    "\n",
    "Hence, the rank of matrix BA will not be 5, same as matrix B, because the minimum of the ranks of B and A is 2, the rank of the matrix A. So, the rank of the matrix BA <= rank of A, in this case equal to A, i.e. 2.\n"
   ]
  },
  {
   "cell_type": "code",
   "execution_count": null,
   "id": "85d1e36c",
   "metadata": {},
   "outputs": [],
   "source": []
  },
  {
   "cell_type": "markdown",
   "id": "086537d7",
   "metadata": {},
   "source": [
    "# Problem 5"
   ]
  },
  {
   "cell_type": "markdown",
   "id": "a010930b",
   "metadata": {},
   "source": [
    "__Initialising matrices for problem 5__"
   ]
  },
  {
   "cell_type": "code",
   "execution_count": 13,
   "id": "9e05ac6d",
   "metadata": {},
   "outputs": [],
   "source": [
    "A = np.array([[-2,  1,  8],\n",
    "              [-1, -1,  7],\n",
    "              [ 3,  0,  4]])\n",
    "              \n",
    "B = np.array([[ 5,  0, -7],\n",
    "              [ 6,  3, -9],\n",
    "              [-2, -2,  0]])\n",
    "              \n",
    "C = np.array([[ 6,  3, -1],\n",
    "              [ 2,  4,  5],\n",
    "              [-1, -1,  8]])"
   ]
  },
  {
   "cell_type": "code",
   "execution_count": 14,
   "id": "950be2c9",
   "metadata": {},
   "outputs": [
    {
     "data": {
      "text/plain": [
       "array([[-2,  1,  8],\n",
       "       [-1, -1,  7],\n",
       "       [ 3,  0,  4],\n",
       "       [ 5,  0, -7],\n",
       "       [ 6,  3, -9],\n",
       "       [-2, -2,  0],\n",
       "       [ 6,  3, -1],\n",
       "       [ 2,  4,  5],\n",
       "       [-1, -1,  8]])"
      ]
     },
     "execution_count": 14,
     "metadata": {},
     "output_type": "execute_result"
    }
   ],
   "source": [
    "D = np.concatenate((A, B, C))\n",
    "D"
   ]
  },
  {
   "cell_type": "code",
   "execution_count": 15,
   "id": "4f922592",
   "metadata": {},
   "outputs": [],
   "source": [
    "b = np.array([3, -10, 2])"
   ]
  },
  {
   "cell_type": "code",
   "execution_count": 16,
   "id": "344b0a69",
   "metadata": {},
   "outputs": [
    {
     "name": "stdout",
     "output_type": "stream",
     "text": [
      "x: [-0.6588419   0.79125205  1.2848211   1.12195654 -0.49220611  0.53822844\n",
      "  0.10452284 -1.36113905  0.86584317],\n",
      "res: [],\n",
      "rank: 3,\n",
      "s: [19.80790713 10.13080337  3.87474364]\n"
     ]
    }
   ],
   "source": [
    "x, res, rank, s = np.linalg.lstsq(D.T,b, rcond=None)\n",
    "print(f\"x: {x},\\nres: {res},\\nrank: {rank},\\ns: {s}\")"
   ]
  },
  {
   "cell_type": "code",
   "execution_count": null,
   "id": "175b8474",
   "metadata": {},
   "outputs": [],
   "source": []
  }
 ],
 "metadata": {
  "kernelspec": {
   "display_name": "Python 3 (ipykernel)",
   "language": "python",
   "name": "python3"
  },
  "language_info": {
   "codemirror_mode": {
    "name": "ipython",
    "version": 3
   },
   "file_extension": ".py",
   "mimetype": "text/x-python",
   "name": "python",
   "nbconvert_exporter": "python",
   "pygments_lexer": "ipython3",
   "version": "3.11.0"
  }
 },
 "nbformat": 4,
 "nbformat_minor": 5
}

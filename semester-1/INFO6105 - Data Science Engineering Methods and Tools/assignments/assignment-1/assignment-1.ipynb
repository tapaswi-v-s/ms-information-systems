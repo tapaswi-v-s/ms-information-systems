{
 "cells": [
  {
   "cell_type": "markdown",
   "id": "8d0abb3a",
   "metadata": {},
   "source": [
    "# Assignment 1- Linear Algebra: Questions 1, 2, 5\n",
    "\n",
    "__Tapaswi Satyapanthi__ <br>\n",
    "_satyapanthi.t@northeastern.edu_"
   ]
  },
  {
   "cell_type": "markdown",
   "id": "6e25c059",
   "metadata": {},
   "source": [
    "__Importing necessary library__"
   ]
  },
  {
   "cell_type": "code",
   "execution_count": 1,
   "id": "82195226",
   "metadata": {},
   "outputs": [],
   "source": [
    "import numpy as np\n",
    "from numpy.linalg import matrix_rank"
   ]
  },
  {
   "cell_type": "markdown",
   "id": "dd3c611c",
   "metadata": {},
   "source": [
    "## Question 1"
   ]
  },
  {
   "cell_type": "markdown",
   "id": "f9e699e2",
   "metadata": {},
   "source": [
    "__Matrix initialisation__"
   ]
  },
  {
   "cell_type": "code",
   "execution_count": 2,
   "id": "b761c7d8",
   "metadata": {},
   "outputs": [
    {
     "name": "stdout",
     "output_type": "stream",
     "text": [
      "Matrix A: \n",
      "[[ 4  0]\n",
      " [ 4  6]\n",
      " [ 2  6]\n",
      " [-8 -4]\n",
      " [-4  9]]\n",
      "\n",
      "Matrix B: \n",
      "[[2 0 0 0 0]\n",
      " [0 1 0 0 0]\n",
      " [0 0 3 0 0]\n",
      " [0 0 0 4 0]\n",
      " [0 0 0 0 5]]\n",
      "\n",
      "Vector X: \n",
      "[[-2]\n",
      " [ 2]]\n"
     ]
    }
   ],
   "source": [
    "# Creating matrix A or 2d array with the help of numpy's\n",
    "# randint function by passing tuple, containing matrix dimentions\n",
    "# to the size parameter\n",
    "matrix_A = np.random.randint(-10, 10, size=(5, 2))\n",
    "\n",
    "# Creating vector X by using numpy's randint function\n",
    "vector_x = np.random.randint(-10, 10, size=(2,1))\n",
    "\n",
    "# Diagonal matrix B with dimentions 5x5 having 1 to 5 on diagonal\n",
    "matrix_B = np.diag([2, 1, 3, 4, 5])\n",
    "\n",
    "print(f\"Matrix A: \\n{matrix_A}\")\n",
    "print(f\"\\nMatrix B: \\n{matrix_B}\")\n",
    "print(f\"\\nVector X: \\n{vector_x}\")"
   ]
  },
  {
   "cell_type": "markdown",
   "id": "877c71ae",
   "metadata": {},
   "source": [
    "#### Matrix-Vector product: Ax"
   ]
  },
  {
   "cell_type": "code",
   "execution_count": 3,
   "id": "81d0193d",
   "metadata": {},
   "outputs": [
    {
     "name": "stdout",
     "output_type": "stream",
     "text": [
      "Matrix - Vector(Ax) product: \n",
      "[[-8]\n",
      " [ 4]\n",
      " [ 8]\n",
      " [ 8]\n",
      " [26]]\n"
     ]
    }
   ],
   "source": [
    "Ax_product = np.dot(matrix_A, vector_x)\n",
    "\n",
    "print(f\"Matrix - Vector(Ax) product: \\n{Ax_product}\")"
   ]
  },
  {
   "cell_type": "markdown",
   "id": "7ab0d8d6",
   "metadata": {},
   "source": [
    "#### Matrix-Matrix product: BA"
   ]
  },
  {
   "cell_type": "code",
   "execution_count": 4,
   "id": "b24bda03",
   "metadata": {},
   "outputs": [
    {
     "name": "stdout",
     "output_type": "stream",
     "text": [
      "Matrix - Matrix(BA) product: \n",
      "[[  8   0]\n",
      " [  4   6]\n",
      " [  6  18]\n",
      " [-32 -16]\n",
      " [-20  45]]\n"
     ]
    }
   ],
   "source": [
    "BA_product = np.dot(matrix_B, matrix_A)\n",
    "\n",
    "print(f\"Matrix - Matrix(BA) product: \\n{BA_product}\")"
   ]
  },
  {
   "cell_type": "markdown",
   "id": "2f0aab19",
   "metadata": {},
   "source": [
    "<br>"
   ]
  },
  {
   "cell_type": "markdown",
   "id": "f189c409",
   "metadata": {},
   "source": [
    "# Question 2"
   ]
  },
  {
   "cell_type": "code",
   "execution_count": 5,
   "id": "39e59efa",
   "metadata": {},
   "outputs": [
    {
     "name": "stdout",
     "output_type": "stream",
     "text": [
      "Rank of matrix A: 2\n",
      "Rank of matrix B: 5\n",
      "Rank of matrix BA: 2\n"
     ]
    }
   ],
   "source": [
    "# Calculating rank of matrix A\n",
    "rank_A = matrix_rank(matrix_A)\n",
    "\n",
    "# Calculating rank of matrix B\n",
    "rank_B = matrix_rank(matrix_B)\n",
    "\n",
    "# Calculating rank of matrix BA\n",
    "rank_BA = matrix_rank(np.dot(matrix_B,matrix_A))\n",
    "\n",
    "print(f\"Rank of matrix A: {rank_A}\")\n",
    "print(f\"Rank of matrix B: {rank_B}\")\n",
    "print(f\"Rank of matrix BA: {rank_BA}\")"
   ]
  },
  {
   "cell_type": "markdown",
   "id": "9aedddb0",
   "metadata": {},
   "source": [
    "### What about the rank of BA? Are they differrent? Why?\n",
    "\n",
    "Here rank of the matrix <code>BA</code> is not equal to the rank of matrix <code>B</code> but equal to the rank of matrix <code>A</code> because the <code>rank(BA)</code> is determined by the following relationship: \n",
    "\n",
    "<code>rank(BA)</code> is minimum of the ranks of the matrices <code>B</code> and <code>A</code> \n",
    "i.e. <code>rank(BA) <= minimum(rank(B), rank(A))</code>\n",
    "\n",
    "Hence, the rank of matrix <code>BA</code> will not be 5, same as matrix <code>B</code>, because the minimum of the ranks of <code>B</code> and <code>A</code> is 2, the rank of the matrix <code>A</code>. \n",
    "\n",
    "So, the rank of the matrix <code>BA</code> <= rank of <code>A</code>, in this case equal to <code>A</code>, i.e. 2.\n"
   ]
  },
  {
   "cell_type": "markdown",
   "id": "fd818dff",
   "metadata": {},
   "source": [
    "<br>"
   ]
  },
  {
   "cell_type": "markdown",
   "id": "086537d7",
   "metadata": {},
   "source": [
    "# Question 5"
   ]
  },
  {
   "cell_type": "markdown",
   "id": "a010930b",
   "metadata": {},
   "source": [
    "#### Initializing matrices for question 5"
   ]
  },
  {
   "cell_type": "code",
   "execution_count": 6,
   "id": "9e05ac6d",
   "metadata": {},
   "outputs": [],
   "source": [
    "# Initializing matrices A, B & C\n",
    "A = np.array([[-2,  1,  8],\n",
    "              [-1, -1,  7],\n",
    "              [ 3,  0,  4]])\n",
    "              \n",
    "B = np.array([[ 5,  0, -7],\n",
    "              [ 6,  3, -9],\n",
    "              [-2, -2,  0]])\n",
    "              \n",
    "C = np.array([[ 6,  3, -1],\n",
    "              [ 2,  4,  5],\n",
    "              [-1, -1,  8]])"
   ]
  },
  {
   "cell_type": "markdown",
   "id": "c1a01ac7",
   "metadata": {},
   "source": [
    "#### Matrix Concatenation and vector b initialization"
   ]
  },
  {
   "cell_type": "code",
   "execution_count": 7,
   "id": "950be2c9",
   "metadata": {},
   "outputs": [
    {
     "name": "stdout",
     "output_type": "stream",
     "text": [
      "Concatenated matrix D: \n",
      "[[-2  1  8]\n",
      " [-1 -1  7]\n",
      " [ 3  0  4]\n",
      " [ 5  0 -7]\n",
      " [ 6  3 -9]\n",
      " [-2 -2  0]\n",
      " [ 6  3 -1]\n",
      " [ 2  4  5]\n",
      " [-1 -1  8]]\n",
      "\n",
      "Vector b after transposing: \n",
      "[[  3]\n",
      " [-10]\n",
      " [  2]]\n"
     ]
    }
   ],
   "source": [
    "# Concatenating matrices A, B & C\n",
    "D = np.concatenate((A, B, C))\n",
    "print(f\"Concatenated matrix D: \\n{D}\")\n",
    "\n",
    "# Initializing vector b and transposing it\n",
    "b = np.array([[3, -10, 2]]).T\n",
    "print(f\"\\nVector b after transposing: \\n{b}\")"
   ]
  },
  {
   "cell_type": "markdown",
   "id": "f56f0002",
   "metadata": {},
   "source": [
    "#### Least Square solution"
   ]
  },
  {
   "cell_type": "code",
   "execution_count": 8,
   "id": "344b0a69",
   "metadata": {},
   "outputs": [
    {
     "name": "stdout",
     "output_type": "stream",
     "text": [
      "Least Square solution: \n",
      "[[-0.6588419 ]\n",
      " [ 0.79125205]\n",
      " [ 1.2848211 ]\n",
      " [ 1.12195654]\n",
      " [-0.49220611]\n",
      " [ 0.53822844]\n",
      " [ 0.10452284]\n",
      " [-1.36113905]\n",
      " [ 0.86584317]]\n"
     ]
    }
   ],
   "source": [
    "# Finding the least square solution\n",
    "least_square = np.linalg.lstsq(D.T,b, rcond=None)[0]\n",
    "\n",
    "print(f\"Least Square solution: \\n{least_square}\")"
   ]
  }
 ],
 "metadata": {
  "kernelspec": {
   "display_name": "Python 3 (ipykernel)",
   "language": "python",
   "name": "python3"
  },
  "language_info": {
   "codemirror_mode": {
    "name": "ipython",
    "version": 3
   },
   "file_extension": ".py",
   "mimetype": "text/x-python",
   "name": "python",
   "nbconvert_exporter": "python",
   "pygments_lexer": "ipython3",
   "version": "3.11.0"
  }
 },
 "nbformat": 4,
 "nbformat_minor": 5
}
